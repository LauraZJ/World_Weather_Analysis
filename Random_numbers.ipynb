{
 "cells": [
  {
   "cell_type": "code",
   "execution_count": 6,
   "id": "0e40f5f2",
   "metadata": {},
   "outputs": [],
   "source": [
    "import random"
   ]
  },
  {
   "cell_type": "code",
   "execution_count": 7,
   "id": "d6ac3779",
   "metadata": {},
   "outputs": [
    {
     "data": {
      "text/plain": [
       "48"
      ]
     },
     "execution_count": 7,
     "metadata": {},
     "output_type": "execute_result"
    }
   ],
   "source": [
    "random.randint(-90,90)"
   ]
  },
  {
   "cell_type": "code",
   "execution_count": 8,
   "id": "94c3caa4",
   "metadata": {},
   "outputs": [
    {
     "data": {
      "text/plain": [
       "0.6819215673171987"
      ]
     },
     "execution_count": 8,
     "metadata": {},
     "output_type": "execute_result"
    }
   ],
   "source": [
    "random.random()"
   ]
  },
  {
   "cell_type": "code",
   "execution_count": 9,
   "id": "77ef9047",
   "metadata": {},
   "outputs": [
    {
     "data": {
      "text/plain": [
       "[55.267759756376925,\n",
       " 79.28354332105025,\n",
       " -14.25017049935132,\n",
       " -37.8418127554094,\n",
       " 42.22819097408657,\n",
       " 78.80224048057177,\n",
       " 24.38750915170616,\n",
       " -49.631257976711,\n",
       " 69.77749536734329,\n",
       " -26.276383300552354]"
      ]
     },
     "execution_count": 9,
     "metadata": {},
     "output_type": "execute_result"
    }
   ],
   "source": [
    "x = 1\n",
    "latitudes = []\n",
    "while x < 11:\n",
    "    random_lat = random.randint(-90, 89) + random.random()\n",
    "    latitudes.append(random_lat)\n",
    "    x += 1\n",
    "    \n",
    "latitudes"
   ]
  },
  {
   "cell_type": "code",
   "execution_count": 10,
   "id": "b9736e57",
   "metadata": {},
   "outputs": [
    {
     "data": {
      "text/plain": [
       "-7"
      ]
     },
     "execution_count": 10,
     "metadata": {},
     "output_type": "execute_result"
    }
   ],
   "source": [
    "random.randrange(-90, 90, step=1)"
   ]
  },
  {
   "cell_type": "code",
   "execution_count": 11,
   "id": "b281fa08",
   "metadata": {},
   "outputs": [
    {
     "data": {
      "text/plain": [
       "51"
      ]
     },
     "execution_count": 11,
     "metadata": {},
     "output_type": "execute_result"
    }
   ],
   "source": [
    "random.randrange(-90, 90, step=3)"
   ]
  },
  {
   "cell_type": "code",
   "execution_count": 12,
   "id": "e499ee1d",
   "metadata": {},
   "outputs": [
    {
     "data": {
      "text/plain": [
       "28.972748921517436"
      ]
     },
     "execution_count": 12,
     "metadata": {},
     "output_type": "execute_result"
    }
   ],
   "source": [
    "random.uniform(-90,90)"
   ]
  },
  {
   "cell_type": "code",
   "execution_count": 13,
   "id": "ed542ce1",
   "metadata": {},
   "outputs": [],
   "source": [
    "import numpy as np"
   ]
  },
  {
   "cell_type": "code",
   "execution_count": 14,
   "id": "b83bd15c",
   "metadata": {},
   "outputs": [
    {
     "data": {
      "text/plain": [
       "-66.24195336622155"
      ]
     },
     "execution_count": 14,
     "metadata": {},
     "output_type": "execute_result"
    }
   ],
   "source": [
    "np.random.uniform(-90.000, 90.000)"
   ]
  },
  {
   "cell_type": "code",
   "execution_count": 15,
   "id": "be35bfe0",
   "metadata": {},
   "outputs": [
    {
     "data": {
      "text/plain": [
       "19.31325121716148"
      ]
     },
     "execution_count": 15,
     "metadata": {},
     "output_type": "execute_result"
    }
   ],
   "source": [
    "np.random.uniform(low=-90, high=90)"
   ]
  },
  {
   "cell_type": "code",
   "execution_count": 16,
   "id": "39e24ac3",
   "metadata": {},
   "outputs": [
    {
     "data": {
      "text/plain": [
       "array([  8.94006191, -62.63177902,  62.11186796,  16.29388817,\n",
       "       -64.24288026, -29.60983253, -82.40552545,  44.16323901,\n",
       "        -3.74741891, -22.12107255, -46.92757665, -24.10216274,\n",
       "       -10.57465674, -47.97849801,  31.82000246,  25.78141594,\n",
       "        89.29624073,  -6.73272703,  81.73552453, -53.95316297,\n",
       "        39.7020862 ,   0.68514483,  46.12621752, -54.79191633,\n",
       "        50.92318262,  24.46538023,  48.26519888, -43.91551902,\n",
       "       -63.66658392, -77.70898385, -35.79073737, -14.79208067,\n",
       "       -79.09583527,  51.72206318, -64.13155771, -68.09714127,\n",
       "        70.64709277, -22.48230542,  15.02529561,  62.64727607,\n",
       "        -3.96821585, -49.74147208, -27.54611364, -21.82493408,\n",
       "        62.84894634,  20.4468068 ,  69.45799406, -82.47127773,\n",
       "        39.56881678,  38.57661289])"
      ]
     },
     "execution_count": 16,
     "metadata": {},
     "output_type": "execute_result"
    }
   ],
   "source": [
    "np.random.uniform(-90.000, 90.000, size=50)"
   ]
  },
  {
   "cell_type": "code",
   "execution_count": 17,
   "id": "fb58521f",
   "metadata": {},
   "outputs": [],
   "source": [
    "import timeit"
   ]
  },
  {
   "cell_type": "code",
   "execution_count": 18,
   "id": "ebc4c148",
   "metadata": {},
   "outputs": [
    {
     "name": "stdout",
     "output_type": "stream",
     "text": [
      "14 µs ± 413 ns per loop (mean ± std. dev. of 7 runs, 100000 loops each)\n"
     ]
    }
   ],
   "source": [
    "%timeit np.random.uniform(-90.000, 90.000, size=1500)"
   ]
  },
  {
   "cell_type": "code",
   "execution_count": 19,
   "id": "6a16738a",
   "metadata": {},
   "outputs": [
    {
     "name": "stdout",
     "output_type": "stream",
     "text": [
      "1.37 ms ± 7.01 µs per loop (mean ± std. dev. of 7 runs, 1000 loops each)\n"
     ]
    }
   ],
   "source": [
    "def latitudes(size):\n",
    "    latitudes = []\n",
    "    x = 0\n",
    "    while x < (size):\n",
    "        random_lat = random.randint(-90, 90) + random.random()\n",
    "        latitudes.append(random_lat)\n",
    "        x += 1\n",
    "    return latitudes\n",
    "# Call the function with 1500.\n",
    "%timeit latitudes(1500)"
   ]
  },
  {
   "cell_type": "code",
   "execution_count": 22,
   "id": "4a471795",
   "metadata": {},
   "outputs": [],
   "source": [
    "## Skill Drill 6.1.4 *******************\n"
   ]
  },
  {
   "cell_type": "code",
   "execution_count": null,
   "id": "f5eb8556",
   "metadata": {},
   "outputs": [],
   "source": []
  },
  {
   "cell_type": "code",
   "execution_count": null,
   "id": "203f0c30",
   "metadata": {},
   "outputs": [],
   "source": []
  },
  {
   "cell_type": "code",
   "execution_count": null,
   "id": "8eb83fd8",
   "metadata": {},
   "outputs": [],
   "source": []
  },
  {
   "cell_type": "code",
   "execution_count": null,
   "id": "c94cacd3",
   "metadata": {},
   "outputs": [],
   "source": []
  },
  {
   "cell_type": "code",
   "execution_count": null,
   "id": "5a3924eb",
   "metadata": {},
   "outputs": [],
   "source": []
  }
 ],
 "metadata": {
  "kernelspec": {
   "display_name": "PythonData",
   "language": "python",
   "name": "pythondata"
  },
  "language_info": {
   "codemirror_mode": {
    "name": "ipython",
    "version": 3
   },
   "file_extension": ".py",
   "mimetype": "text/x-python",
   "name": "python",
   "nbconvert_exporter": "python",
   "pygments_lexer": "ipython3",
   "version": "3.9.7"
  }
 },
 "nbformat": 4,
 "nbformat_minor": 5
}
